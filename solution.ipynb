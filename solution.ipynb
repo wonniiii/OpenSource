{
 "cells": [
  {
   "cell_type": "code",
   "execution_count": 52,
   "id": "9defb6dd",
   "metadata": {},
   "outputs": [
    {
     "name": "stdout",
     "output_type": "stream",
     "text": [
      "( 1 , 2 )\n",
      "( 3 , 4 )\n",
      "( 4 , 6 )\n"
     ]
    }
   ],
   "source": [
    "class Point:\n",
    "    a=0\n",
    "    b=0\n",
    "    def __init__(self,c,d):\n",
    "        self.a=c\n",
    "        self.b=d\n",
    "    def show(self):\n",
    "        print(\"(\",self.a,\",\",self.b,\")\")\n",
    "    def __add__(self,other):\n",
    "        return Point(self.a+other.a,self.b+other.b)\n",
    "    \n",
    "    \n",
    "a=Point(1,2)\n",
    "a.show()\n",
    "\n",
    "b=Point(3,4)\n",
    "b.show()\n",
    "\n",
    "a=a+b\n",
    "a.show()"
   ]
  },
  {
   "cell_type": "code",
   "execution_count": 49,
   "id": "a16718b4",
   "metadata": {},
   "outputs": [
    {
     "name": "stdout",
     "output_type": "stream",
     "text": [
      "Max Week= 2021-05-11\n"
     ]
    }
   ],
   "source": [
    "import csv\n",
    "f=open('seoul.csv','r',encoding='cp949')\n",
    "data=csv.reader(f)\n",
    "\n",
    "next(data)\n",
    "header=next(data)\n",
    "lowtemp=float(header[3])\n",
    "hightemp=float(header[4])\n",
    "daily=hightemp-lowtemp\n",
    "dailydate=header[0]\n",
    "maxweek=''\n",
    "number=number2=1\n",
    "count=0\n",
    "sum=0\n",
    "weekdate=0\n",
    "\n",
    "for row in data:\n",
    "    row[-1]=float(row[-1])\n",
    "    dailytemp=float(row[4])-float(row[3])\n",
    "\n",
    "    if number==1:\n",
    "        if maxweek<count:\n",
    "            weekdate=number2\n",
    "            sum=count\n",
    "    \n",
    "        \n",
    "f.close()\n",
    "print(\"Max Week=\",dailydate)\n",
    "    \n"
   ]
  },
  {
   "cell_type": "code",
   "execution_count": 54,
   "id": "68c7576d",
   "metadata": {},
   "outputs": [
    {
     "data": {
      "image/png": "[encoded data removed]",
      "text/plain": [
       "<Figure size 432x288 with 1 Axes>"
      ]
     },
     "metadata": {
      "needs_background": "light"
     },
     "output_type": "display_data"
    }
   ],
   "source": [
    "import matplotlib.pyplot as plt\n",
    "import numpy as np\n",
    "import math\n",
    "\n",
    "Docs=([[1,1,0,1,0,1],\n",
    "      [1,1,1,0,1,0],\n",
    "      [1,1,0,1,0,0]])\n",
    "\n",
    "Query=([1,1,0,0,1,0])\n",
    "\n",
    "result=np.dot(Docs,Query)\n",
    "size=2*math.sqrt(3)\n",
    "size2=3\n",
    "\n",
    "\n",
    "\n",
    "plt.bar([1,2,3],[result[0]/size,result[1]/size,result[2]/size2])\n",
    "plt.title(\"Consine similarities\")\n",
    "plt.show()\n",
    "\n"
   ]
  },
  {
   "cell_type": "code",
   "execution_count": null,
   "id": "a1cc7c7d",
   "metadata": {},
   "outputs": [],
   "source": []
  },
  {
   "cell_type": "code",
   "execution_count": null,
   "id": "6bf906fe",
   "metadata": {},
   "outputs": [],
   "source": []
  }
 ],
 "metadata": {
  "kernelspec": {
   "display_name": "Python 3",
   "language": "python",
   "name": "python3"
  },
  "language_info": {
   "codemirror_mode": {
    "name": "ipython",
    "version": 3
   },
   "file_extension": ".py",
   "mimetype": "text/x-python",
   "name": "python",
   "nbconvert_exporter": "python",
   "pygments_lexer": "ipython3",
   "version": "3.8.8"
  }
 },
 "nbformat": 4,
 "nbformat_minor": 5
}
