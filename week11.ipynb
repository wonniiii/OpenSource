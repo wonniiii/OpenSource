{
 "cells": [
  {
   "cell_type": "code",
   "execution_count": 4,
   "id": "a776ab98",
   "metadata": {},
   "outputs": [
    {
     "name": "stdout",
     "output_type": "stream",
     "text": [
      "명령어를 입력하세요:cp hi.txt copy.txt\n",
      "======copy complete=====\n"
     ]
    }
   ],
   "source": [
    "def copy(file1,file2):\n",
    "    f1=open(\"./\"+file1,\"r\",encoding=\"utf-8\")\n",
    "    f2=open(\"./\"+file2,\"w\",encoding=\"utf-8\")\n",
    "\n",
    "    for line in f1:\n",
    "        f2.write(line)\n",
    "\n",
    "    f1.close()\n",
    "    f2.close()\n",
    "\n",
    "\n",
    "s=input(\"명령어를 입력하세요:\")\n",
    "l=s.split()\n",
    "switch=l[0]\n",
    "if switch=='cp':\n",
    "    file1=l[1]\n",
    "    file2=l[2]\n",
    "    copy(file1,file2)\n",
    "    print(\"======copy complete=====\")\n"
   ]
  },
  {
   "cell_type": "code",
   "execution_count": 6,
   "id": "bf81f4fa",
   "metadata": {},
   "outputs": [
    {
     "name": "stdout",
     "output_type": "stream",
     "text": [
      "명령어를 입력하세요:wc hi.txt\n",
      "#of lines: 4\n",
      "#of tokens: 9\n",
      "======words counting complete=====\n"
     ]
    }
   ],
   "source": [
    "def wc(fname):\n",
    "    dic={}\n",
    "    f=open(fname,\"r\",encoding=\"utf-8\")\n",
    "    i=0\n",
    "    token=0\n",
    "    for line in f:\n",
    "        i+=1\n",
    "        words=line.split(\" \")\n",
    "        for word in words:\n",
    "            token=token+1\n",
    "\n",
    "    print(\"#of lines:\",i)\n",
    "    print(\"#of tokens:\",token)\n",
    "\n",
    "s=input(\"명령어를 입력하세요:\")\n",
    "l=s.split()\n",
    "switch=l[0]\n",
    "if switch=='wc':\n",
    "    file1=l[1]\n",
    "    wc(file1)\n",
    "    print(\"======words counting complete=====\")"
   ]
  },
  {
   "cell_type": "code",
   "execution_count": 7,
   "id": "b2749731",
   "metadata": {},
   "outputs": [
    {
     "name": "stdout",
     "output_type": "stream",
     "text": [
      "1+2=3입니다\n",
      "5-1=4입니다\n",
      "2*3=6입니다\n",
      "6/2=3입니다\n"
     ]
    }
   ],
   "source": [
    "# -*- coding: cp949 -*-\n",
    "class Calc:\n",
    "    def sum(self,a,b):\n",
    "        result=a+b\n",
    "        print(\"{0}+{1}={2}입니다\".format(a,b,result))\n",
    "    def sub(self,a,b):\n",
    "        result=a-b\n",
    "        print(\"{0}-{1}={2}입니다\".format(a,b,result))\n",
    "    def multi(self,a,b):\n",
    "        result=a*b\n",
    "        print(\"{0}*{1}={2}입니다\".format(a,b,result))\n",
    "    def divi(self,a,b):\n",
    "        result=int(a/b)\n",
    "        print(\"{0}/{1}={2}입니다\".format(a,b,result))\n",
    "\n",
    "\n",
    "calc=Calc()\n",
    "calc.sum(1,2)\n",
    "calc.sub(5,1)\n",
    "calc.multi(2,3)\n",
    "calc.divi(6,2)"
   ]
  },
  {
   "cell_type": "code",
   "execution_count": 8,
   "id": "4e515996",
   "metadata": {},
   "outputs": [
    {
     "name": "stdout",
     "output_type": "stream",
     "text": [
      "계산식 입력: 1 + 2 - 3 * 4 + 5\n",
      "계산식 출력:-4\n"
     ]
    }
   ],
   "source": [
    "class Stack:\n",
    "\n",
    "    def __init__(self):\n",
    "        self.data = []\n",
    "\n",
    "    def size(self):\n",
    "        return len(self.data)\n",
    "\n",
    "    def push(self,word):\n",
    "        self.data.append(word)\n",
    "        \n",
    "    def pop(self):\n",
    "        Pop = self.data[-1]\n",
    "        del self.data[-1]\n",
    "        \n",
    "        return Pop\n",
    "    \n",
    "  \n",
    "    \n",
    "    def top(self):\n",
    "        if len(self.data) == 0:\n",
    "            return 0\n",
    "        else:\n",
    "            top = self.data[-1]\n",
    "            return top\n",
    "\n",
    "        \n",
    "class Calc:\n",
    "\n",
    "    def sum(self, a,b):\n",
    "        return a+b\n",
    "\n",
    "    def sub(self, a, b):\n",
    "        return a-b\n",
    "\n",
    "    def multi(self, a, b):\n",
    "        return a*b\n",
    "\n",
    "    def div(self, a, b):\n",
    "        return a/b\n",
    "\n",
    "def calculator(data):\n",
    "    if data == 0:\n",
    "        number2 = nstack.pop()\n",
    "        number1 = nstack.pop()\n",
    "    else:\n",
    "        number1 = nstack.pop()\n",
    "        number2 = nstack.pop()\n",
    "\n",
    "    operator = ostack.pop()\n",
    "\n",
    "    result = op[operator](int(number1), int(number2))\n",
    "    nstack.push(result)\n",
    "\n",
    "\n",
    "nstack = Stack()\n",
    "ostack = Stack()\n",
    "cal = Calc()\n",
    "\n",
    "\n",
    "op ={ \"+\":cal.sum, \"-\":cal.sub,\"*\":cal.multi,\"/\":cal.div}\n",
    "\n",
    "\n",
    "user = input(\"계산식 입력: \").split(\" \")\n",
    "\n",
    "for i in user:\n",
    "    if i == \"+\" or i == \"-\" or i == \"*\" or i == \"/\":\n",
    "        ostack.push(i)\n",
    "    else:\n",
    "        nstack.push(i)\n",
    "        if ostack.top() == \"*\" or ostack.top() == \"/\":\n",
    "            calculator(0)\n",
    "\n",
    "ostack.data.reverse()\n",
    "nstack.data.reverse()\n",
    "\n",
    "\n",
    "while ostack.size() != 0:\n",
    "    calculator(1)\n",
    "\n",
    "\n",
    "result = nstack.pop()\n",
    "print(\"계산식 출력:{0}\".format(result))"
   ]
  },
  {
   "cell_type": "code",
   "execution_count": null,
   "id": "1e1d0e29",
   "metadata": {},
   "outputs": [],
   "source": []
  }
 ],
 "metadata": {
  "kernelspec": {
   "display_name": "Python 3",
   "language": "python",
   "name": "python3"
  },
  "language_info": {
   "codemirror_mode": {
    "name": "ipython",
    "version": 3
   },
   "file_extension": ".py",
   "mimetype": "text/x-python",
   "name": "python",
   "nbconvert_exporter": "python",
   "pygments_lexer": "ipython3",
   "version": "3.9.4"
  }
 },
 "nbformat": 4,
 "nbformat_minor": 5
}
