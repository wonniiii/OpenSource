{
 "cells": [
  {
   "cell_type": "code",
   "execution_count": 8,
   "id": "c3ea3b7d",
   "metadata": {},
   "outputs": [
    {
     "name": "stdout",
     "output_type": "stream",
     "text": [
      "Numbers?10 456 87 78\n",
      "Max =  456\n"
     ]
    }
   ],
   "source": [
    "number=input(\"Numbers?\")\n",
    "num_list=number.split(' ')\n",
    "num_list=[int (i) for i in num_list]\n",
    "print(\"Max = \",max(num_list))"
   ]
  },
  {
   "cell_type": "code",
   "execution_count": 9,
   "id": "7122bb9b",
   "metadata": {},
   "outputs": [
    {
     "name": "stdout",
     "output_type": "stream",
     "text": [
      "abc def\n",
      "encoding : efg bcd\n",
      "efg bcd\n",
      "decoding : abc def\n"
     ]
    }
   ],
   "source": [
    "user = input()\n",
    "\n",
    "def encoding(user): \n",
    "    password = \"\"\n",
    "    for i in range(len(user)):\n",
    "        if user[i] != \" \":\n",
    "            x = chr(ord(user[i]) + 1)\n",
    "        else:\n",
    "            x = \" \"\n",
    "        password += x\n",
    "\n",
    "    front = password[0:3]\n",
    "    back = password[4:7]\n",
    "    password = back + \" \" + front\n",
    "        \n",
    "    return password\n",
    "password = encoding(user)\n",
    "print(\"encoding :\",password)\n",
    "\n",
    "user2 = input()\n",
    "\n",
    "def decoding(password):\n",
    "    user2 =\"\"\n",
    "    front = password[0:3]\n",
    "    back = password[4:7]\n",
    "    password = back + \" \" + front\n",
    "    \n",
    "    for i in range(len(password)):\n",
    "        if password[i] != \" \":\n",
    "            x = chr(ord(password[i]) - 1)\n",
    "        else:\n",
    "            x = \" \"\n",
    "        user2 += x\n",
    "        \n",
    "    return user2\n",
    "\n",
    "\n",
    "password2 = decoding(password)\n",
    "print(\"decoding :\",password2)"
   ]
  },
  {
   "cell_type": "code",
   "execution_count": 1,
   "id": "a727e489",
   "metadata": {},
   "outputs": [
    {
     "name": "stdout",
     "output_type": "stream",
     "text": [
      "최효원 01012345678\n",
      "최효투 01023456789\n",
      "김태형 01034567890\n",
      "김제니 01045678901\n",
      "김민지 01056789012\n",
      "1. Name Search\n",
      "2. Phonenumber Search\n",
      "3. Exit\n",
      "Type menu number:1\n",
      "Type name:최효원\n",
      "Search result : 01012345678\n",
      "1. Name Search\n",
      "2. Phonenumber Search\n",
      "3. Exit\n",
      "Type menu number:2\n",
      "Type phonenumber:01045678901\n",
      "Search result : 김제니\n",
      "1. Name Search\n",
      "2. Phonenumber Search\n",
      "3. Exit\n",
      "Type menu number:3\n"
     ]
    }
   ],
   "source": [
    "PhoneDictionary = {}\n",
    "for i in range(5):\n",
    "    name, number = input().split(\" \")\n",
    "    PhoneDictionary[name] = number\n",
    "\n",
    "def search():\n",
    "    print(\"1. Name Search\")\n",
    "    print(\"2. Phonenumber Search\")\n",
    "    print(\"3. Exit\")\n",
    " \n",
    "    menu = input(\"Type menu number:\")\n",
    "    if menu == \"1\":\n",
    "        inputname = input(\"Type name:\")\n",
    "        for name,number in PhoneDictionary.items():\n",
    "            if name == inputname:\n",
    "                return number\n",
    "    elif menu == \"2\":\n",
    "        inputnumber = input(\"Type phonenumber:\")\n",
    "        for name,number in PhoneDictionary.items():\n",
    "            if number == inputnumber:\n",
    "                return name\n",
    "    elif menu==\"3\":\n",
    "        return 0\n",
    "\n",
    "while(1):\n",
    "    user=search()\n",
    "    if user==0:\n",
    "        break;\n",
    "    else:\n",
    "        print(\"Search result :\",user)"
   ]
  },
  {
   "cell_type": "code",
   "execution_count": null,
   "id": "0ed8af0a",
   "metadata": {},
   "outputs": [],
   "source": []
  }
 ],
 "metadata": {
  "kernelspec": {
   "display_name": "Python 3",
   "language": "python",
   "name": "python3"
  },
  "language_info": {
   "codemirror_mode": {
    "name": "ipython",
    "version": 3
   },
   "file_extension": ".py",
   "mimetype": "text/x-python",
   "name": "python",
   "nbconvert_exporter": "python",
   "pygments_lexer": "ipython3",
   "version": "3.9.4"
  }
 },
 "nbformat": 4,
 "nbformat_minor": 5
}
