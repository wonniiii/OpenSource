{
 "cells": [
  {
   "cell_type": "code",
   "execution_count": 1,
   "id": "82a47f6c",
   "metadata": {},
   "outputs": [
    {
     "name": "stdout",
     "output_type": "stream",
     "text": [
      "x값을 입력하세요: 5\n"
     ]
    }
   ],
   "source": [
    "x=int(input(\"x값을 입력하세요: \"))"
   ]
  },
  {
   "cell_type": "code",
   "execution_count": 2,
   "id": "368ecc6c",
   "metadata": {},
   "outputs": [],
   "source": [
    "y=(3*x*x)+(5*x)+3"
   ]
  },
  {
   "cell_type": "code",
   "execution_count": 3,
   "id": "25d55e9d",
   "metadata": {},
   "outputs": [
    {
     "name": "stdout",
     "output_type": "stream",
     "text": [
      "y : 103\n"
     ]
    }
   ],
   "source": [
    "print(\"y :\",y)"
   ]
  },
  {
   "cell_type": "code",
   "execution_count": 4,
   "id": "104a3f96",
   "metadata": {},
   "outputs": [],
   "source": [
    "pi=3.14"
   ]
  },
  {
   "cell_type": "code",
   "execution_count": 5,
   "id": "a89b8ced",
   "metadata": {},
   "outputs": [
    {
     "name": "stdout",
     "output_type": "stream",
     "text": [
      "반지름을 입력하세요 :3\n"
     ]
    }
   ],
   "source": [
    "r=int(input(\"반지름을 입력하세요 :\"))"
   ]
  },
  {
   "cell_type": "code",
   "execution_count": 6,
   "id": "3ebc0726",
   "metadata": {},
   "outputs": [],
   "source": [
    "perimeter=(2*pi*r)"
   ]
  },
  {
   "cell_type": "code",
   "execution_count": 7,
   "id": "f276bf09",
   "metadata": {},
   "outputs": [],
   "source": [
    "area=(r*r*pi)"
   ]
  },
  {
   "cell_type": "code",
   "execution_count": 8,
   "id": "c1235d98",
   "metadata": {},
   "outputs": [],
   "source": [
    "str=\"{0:s}:{1:3f} {2:s}:{3:3f}\".format(\"둘레\",perimeter,\"넓이\",area)"
   ]
  },
  {
   "cell_type": "code",
   "execution_count": 9,
   "id": "068d5109",
   "metadata": {},
   "outputs": [
    {
     "name": "stdout",
     "output_type": "stream",
     "text": [
      "둘레:18.840000 넓이:28.260000\n"
     ]
    }
   ],
   "source": [
    "print(str)"
   ]
  }
 ],
 "metadata": {
  "kernelspec": {
   "display_name": "Python 3",
   "language": "python",
   "name": "python3"
  },
  "language_info": {
   "codemirror_mode": {
    "name": "ipython",
    "version": 3
   },
   "file_extension": ".py",
   "mimetype": "text/x-python",
   "name": "python",
   "nbconvert_exporter": "python",
   "pygments_lexer": "ipython3",
   "version": "3.9.4"
  }
 },
 "nbformat": 4,
 "nbformat_minor": 5
}
