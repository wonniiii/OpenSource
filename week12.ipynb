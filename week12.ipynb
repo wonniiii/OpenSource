{
 "cells": [
  {
   "cell_type": "code",
   "execution_count": 1,
   "id": "6b7c9430",
   "metadata": {
    "scrolled": true
   },
   "outputs": [
    {
     "name": "stdout",
     "output_type": "stream",
     "text": [
      "일교차가 가장 큰 날\n",
      "2020-05-06\n",
      "최저기온이 가장 낮은 날\n",
      "2020-12-30\n",
      "최고기온이 가장 높은 날\n",
      "2020-06-22\n"
     ]
    }
   ],
   "source": [
    "import csv\n",
    "f=open('seoul.csv','r',encoding='cp949')\n",
    "data=csv.reader(f)\n",
    "\n",
    "next(data)\n",
    "header=next(data)\n",
    "max_temp=min_temp=0\n",
    "max_date=min_date=''\n",
    "\n",
    "lowtemp=float(header[1])\n",
    "hightemp=float(header[2])\n",
    "daily=hightemp-lowtemp\n",
    "dailydate=header[0]\n",
    "\n",
    "for row in data:\n",
    "    row[-1]=float(row[-1])\n",
    "    dailytemp=float(row[2])-float(row[1])\n",
    "    \n",
    "    if max_temp<row[-1]:\n",
    "        max_date=row[0]\n",
    "        max_temp=row[-1]\n",
    "        \n",
    "    elif min_temp>row[-1]:\n",
    "        min_date=row[0]\n",
    "        min_temp=row[-1]\n",
    "\n",
    "    if daily<dailytemp:\n",
    "        daily=dailytemp\n",
    "        dailydate=row[0]\n",
    "                \n",
    "f.close()\n",
    "print(\"일교차가 가장 큰 날\")\n",
    "print(dailydate)\n",
    "print(\"최저기온이 가장 낮은 날\")\n",
    "print(min_date)\n",
    "print(\"최고기온이 가장 높은 날\")\n",
    "print(max_date)"
   ]
  },
  {
   "cell_type": "code",
   "execution_count": 2,
   "id": "b4888f54",
   "metadata": {
    "scrolled": true
   },
   "outputs": [
    {
     "name": "stdout",
     "output_type": "stream",
     "text": [
      "이용객이 가장 많은 역 순위\n",
      "1. 2호선 강남(3167883)\n",
      "2. 2호선 신림(2799927)\n",
      "3. 2호선 잠실(송파구청)(2669433)\n",
      "이용객이 가장 적은 역 순위\n",
      "1. 경의선 계양(2)\n",
      "2. 6호선 신내(3)\n",
      "3. 일산선 지축(4)\n"
     ]
    }
   ],
   "source": [
    "import csv\n",
    "\n",
    "f=open('subway.csv','r',encoding='cp949')\n",
    "data=csv.reader(f)\n",
    "\n",
    "header=next(data)\n",
    "\n",
    "get_in=header[4]\n",
    "get_out=header[5]\n",
    "user=get_in+get_out\n",
    "station=header[3]\n",
    "user2={}\n",
    "\n",
    "for row in data:\n",
    "    get_in=row[4].replace(',','')\n",
    "    int_getin=int(get_in)\n",
    "\n",
    "    get_out=row[5].replace(',','')\n",
    "    int_getout=int(get_out)\n",
    "\n",
    "    user=int_getin+int_getout\n",
    "\n",
    "    user2[row[1]+\" \"+row[3]]=user\n",
    "\n",
    "result = sorted(user2.items(), key=(lambda x:x[1]), reverse = True)\n",
    "\n",
    "\n",
    "\n",
    "print(\"이용객이 가장 많은 역 순위\")\n",
    "print(\"1. {0:s}({1:d})\".format(result[0][0], result[0][1]))\n",
    "print(\"2. {0:s}({1:d})\".format(result[1][0], result[1][1]))\n",
    "print(\"3. {0:s}({1:d})\".format(result[2][0], result[2][1]))\n",
    "print(\"이용객이 가장 적은 역 순위\")\n",
    "print(\"1. {0:s}({1:d})\".format(result[-1][0], result[-1][1]))\n",
    "print(\"2. {0:s}({1:d})\".format(result[-2][0], result[-2][1]))\n",
    "print(\"3. {0:s}({1:d})\".format(result[-3][0], result[-3][1]))"
   ]
  },
  {
   "cell_type": "code",
   "execution_count": null,
   "id": "0ceb99b0",
   "metadata": {},
   "outputs": [],
   "source": []
  }
 ],
 "metadata": {
  "kernelspec": {
   "display_name": "Python 3",
   "language": "python",
   "name": "python3"
  },
  "language_info": {
   "codemirror_mode": {
    "name": "ipython",
    "version": 3
   },
   "file_extension": ".py",
   "mimetype": "text/x-python",
   "name": "python",
   "nbconvert_exporter": "python",
   "pygments_lexer": "ipython3",
   "version": "3.8.8"
  }
 },
 "nbformat": 4,
 "nbformat_minor": 5
}
